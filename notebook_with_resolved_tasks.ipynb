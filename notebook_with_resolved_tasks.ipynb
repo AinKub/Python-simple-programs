{
 "cells": [
  {
   "cell_type": "code",
   "execution_count": 5,
   "metadata": {},
   "outputs": [
    {
     "name": "stdout",
     "output_type": "stream",
     "text": [
      "Было: [0, 1, 2, 3, 4, 5, 6, 7, 8, 9, 10]\n",
      "Стало: [1, 3, 5, 7, 9]\n",
      "\n",
      "Было: ['a', 'b', 'c', 'd', 'e']\n",
      "Стало: ['b', 'd']\n"
     ]
    }
   ],
   "source": [
    "from typing import List, Any\n",
    "\n",
    "def remove_all_even_elements_from_a_list(desired_list: List[Any]) -> List[Any]:\n",
    "    \"\"\"\n",
    "    Создаёт копию `desired_list` и удаляет из неё все четные элементы.\n",
    "    Возвращает измененную копию.\n",
    "\n",
    "    :param desired_list: Список, у которого нужно удалить все четные элементы\n",
    "    \"\"\"\n",
    "    copy_of_list = [element for i, element in enumerate(desired_list[:]) if i % 2 != 0]\n",
    "    return copy_of_list\n",
    "\n",
    "test_list_of_ints = [i for i in range(11)]\n",
    "print(f'Было: {test_list_of_ints}')\n",
    "new_list = remove_all_even_elements_from_a_list(test_list_of_ints)\n",
    "print(f'Стало: {new_list}')\n",
    "\n",
    "print()\n",
    "\n",
    "test_list_of_str = ['a', 'b', 'c', 'd', 'e']\n",
    "print(f'Было: {test_list_of_str}')\n",
    "new_list = remove_all_even_elements_from_a_list(test_list_of_str)\n",
    "print(f'Стало: {new_list}')"
   ]
  },
  {
   "cell_type": "code",
   "execution_count": 1,
   "metadata": {},
   "outputs": [
    {
     "name": "stdout",
     "output_type": "stream",
     "text": [
      "Исходный список: ['python', '1T Data', 'Data Engineer', 'Airflow', 'Clickhouse', 'Программирование']\n",
      "\n",
      "Список со словами, где более трех гласных: ['Data Engineer', 'Clickhouse', 'Программирование']\n"
     ]
    }
   ],
   "source": [
    "from collections import Counter\n",
    "from typing import List, Union\n",
    "\n",
    "VOWELS = 'aeiouy ауоыиэяюёе'\n",
    "\n",
    "def find_words_containing_more_than_three_vowels(desired_list: List[str]) -> Union[List[str], List[None]]:\n",
    "\n",
    "    list_of_words_with_more_than_three_vowels = []\n",
    "    for word in desired_list:\n",
    "        count = Counter(word)\n",
    "        vowels_in_word = {vowel: count for vowel, count in count.items() if vowel.lower() in VOWELS}\n",
    "        sum_of_vowels_in_word = sum(vowels_in_word.values())\n",
    "\n",
    "        if sum_of_vowels_in_word > 3:\n",
    "            list_of_words_with_more_than_three_vowels.append(word) \n",
    "\n",
    "    return list_of_words_with_more_than_three_vowels\n",
    "\n",
    "\n",
    "test_list_of_words = ['python', '1T Data', 'Data Engineer', 'Airflow', 'Clickhouse', 'Программирование']\n",
    "print(f'Исходный список: {test_list_of_words}')\n",
    "\n",
    "print()\n",
    "\n",
    "new_list = find_words_containing_more_than_three_vowels(test_list_of_words)\n",
    "print(f'Список со словами, где более трех гласных: {new_list}')\n"
   ]
  },
  {
   "cell_type": "code",
   "execution_count": 18,
   "metadata": {},
   "outputs": [
    {
     "name": "stdout",
     "output_type": "stream",
     "text": [
      "11\n",
      "\n",
      "u\n"
     ]
    }
   ],
   "source": [
    "from typing import List, Union\n",
    "\n",
    "\n",
    "def find_the_second_largest_element_in_a_list(desired_list: Union[List[int], List[str]]\n",
    "                                              ) -> Union[int, str]:\n",
    "    \"\"\"\n",
    "    Находит второй по величине элемент в списке. \n",
    "    Может находить в списке из int или из str\n",
    "    \"\"\"\n",
    "    copy_of_list = desired_list[:]\n",
    "    if not copy_of_list:\n",
    "        return\n",
    "    else:\n",
    "        copy_of_list.remove(max(copy_of_list))\n",
    "        return max(copy_of_list)\n",
    "\n",
    "\n",
    "test_list_of_ints = [1, 4, 6, 2, 9, 20, 11]\n",
    "print(find_the_second_largest_element_in_a_list(test_list_of_ints))\n",
    "\n",
    "print()\n",
    "\n",
    "test_list_of_str = list('aeiouy')\n",
    "print(find_the_second_largest_element_in_a_list(test_list_of_str))"
   ]
  },
  {
   "cell_type": "code",
   "execution_count": 3,
   "metadata": {},
   "outputs": [
    {
     "name": "stdout",
     "output_type": "stream",
     "text": [
      "[1, 5, 6, 'b', 'a']\n",
      "\n",
      "['c', 'd', 'b', 'a', 'r']\n"
     ]
    }
   ],
   "source": [
    "from typing import List, Any\n",
    "\n",
    "\n",
    "def remove_duplicate_elements_from_a_list(desired_list: List[Any]) -> List[Any]:\n",
    "    return list(set(desired_list))\n",
    "\n",
    "\n",
    "test_list = [1, 1, 5, 'a' , 'b', 'a', 6, 5, 1]\n",
    "print(remove_duplicate_elements_from_a_list(test_list))\n",
    "\n",
    "print()\n",
    "\n",
    "test_list = list('abracadabra')\n",
    "print(remove_duplicate_elements_from_a_list(test_list))"
   ]
  },
  {
   "cell_type": "code",
   "execution_count": 3,
   "metadata": {},
   "outputs": [
    {
     "name": "stdout",
     "output_type": "stream",
     "text": [
      "{'Bob': {'Gender': 'M', 'Age': '33', 'Salary': '15000'}, 'Pol': {'Gender': 'M', 'Age': '23', 'Salary': '12000'}, 'Maria': {'Gender': 'F', 'Age': '26', 'Salary': '17000'}, 'Dilan': {'Gender': 'M', 'Age': '50', 'Salary': '25000'}, 'Mike': {'Gender': 'M', 'Age': '30', 'Salary': '40000'}, 'Laura': {'Gender': 'F', 'Age': '21', 'Salary': '10000'}}\n"
     ]
    }
   ],
   "source": [
    "import csv\n",
    "from typing import Dict, Any\n",
    "from pathlib import Path\n",
    "\n",
    "\n",
    "def read_csv_and_create_dict_with_names_and_their_gender_age_and_salary(path_to_file: Path) -> Dict[str, Dict[str, Any]]:\n",
    "    \"\"\"\n",
    "    Читает csv файл, преобразовывает его в `Dict` с помощью `DictReader` и выносит значение\n",
    "    `Name` отдельно как ключ словаря в полом, возрастом и зарплатой\n",
    "    \"\"\"\n",
    "\n",
    "    with open(path_to_file, encoding='UTF-8') as csv_file:\n",
    "        csv_file = csv.DictReader(csv_file)\n",
    "        result_dict = {}\n",
    "        for row in csv_file:\n",
    "            name = row.pop('Name')\n",
    "            result_dict[name] = row\n",
    "\n",
    "        return result_dict\n",
    "\n",
    "\n",
    "csv_file_path = Path.cwd() / 'csv_file.csv'\n",
    "result_dict = read_csv_and_create_dict_with_names_and_their_gender_age_and_salary(csv_file_path)\n",
    "print(result_dict)\n",
    "\n"
   ]
  },
  {
   "cell_type": "code",
   "execution_count": 7,
   "metadata": {},
   "outputs": [
    {
     "name": "stdout",
     "output_type": "stream",
     "text": [
      "['Написать', 'программу,', 'которая', 'запрашивает', 'пользователя', 'строку', 'выводит', 'экран', 'все', 'подстроки', 'длиной', 'менее', 'трех', 'символов.']\n"
     ]
    }
   ],
   "source": [
    "\"\"\"\n",
    "Выводит на экран все подстроки указанной в input строки длиной не менее трех символов\n",
    "\n",
    "Можно проверить на: \n",
    "\"Написать программу, которая запрашивает у пользователя строку и выводит на экран все ее подстроки длиной не менее трех символов.\"\n",
    "\"\"\"\n",
    "user_string = input('Введи любую строку\\n')\n",
    "\n",
    "delimiters = list('.,:;!\\'\"\\\\/&?<>\\{=}-_+%$#[]')\n",
    "for delimiter in delimiters:\n",
    "    user_string.replace(delimiter, ' ')\n",
    "\n",
    "list_of_words_in_user_string = user_string.split(' ')\n",
    "result_list = [i for i in list_of_words_in_user_string if len(i) >= 3]\n",
    "print(result_list)"
   ]
  }
 ],
 "metadata": {
  "kernelspec": {
   "display_name": "Python 3",
   "language": "python",
   "name": "python3"
  },
  "language_info": {
   "codemirror_mode": {
    "name": "ipython",
    "version": 3
   },
   "file_extension": ".py",
   "mimetype": "text/x-python",
   "name": "python",
   "nbconvert_exporter": "python",
   "pygments_lexer": "ipython3",
   "version": "3.9.6"
  },
  "orig_nbformat": 4
 },
 "nbformat": 4,
 "nbformat_minor": 2
}
