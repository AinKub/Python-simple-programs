{
 "cells": [
  {
   "cell_type": "code",
   "execution_count": 5,
   "metadata": {},
   "outputs": [
    {
     "name": "stdout",
     "output_type": "stream",
     "text": [
      "Было: [0, 1, 2, 3, 4, 5, 6, 7, 8, 9, 10]\n",
      "Стало: [1, 3, 5, 7, 9]\n",
      "\n",
      "Было: ['a', 'b', 'c', 'd', 'e']\n",
      "Стало: ['b', 'd']\n"
     ]
    }
   ],
   "source": [
    "from typing import List, Any\n",
    "\n",
    "def remove_all_even_elements_from_a_list(desired_list: List[Any]) -> List[Any]:\n",
    "    \"\"\"\n",
    "    Создаёт копию `desired_list` и удаляет из неё все четные элементы.\n",
    "    Возвращает измененную копию.\n",
    "\n",
    "    :param desired_list: Список, у которого нужно удалить все четные элементы\n",
    "    \"\"\"\n",
    "    copy_of_list = [element for i, element in enumerate(desired_list[:]) if i % 2 != 0]\n",
    "    return copy_of_list\n",
    "\n",
    "test_list_of_ints = [i for i in range(11)]\n",
    "print(f'Было: {test_list_of_ints}')\n",
    "new_list = remove_all_even_elements_from_a_list(test_list_of_ints)\n",
    "print(f'Стало: {new_list}')\n",
    "\n",
    "print()\n",
    "\n",
    "test_list_of_str = ['a', 'b', 'c', 'd', 'e']\n",
    "print(f'Было: {test_list_of_str}')\n",
    "new_list = remove_all_even_elements_from_a_list(test_list_of_str)\n",
    "print(f'Стало: {new_list}')"
   ]
  }
 ],
 "metadata": {
  "kernelspec": {
   "display_name": "Python 3",
   "language": "python",
   "name": "python3"
  },
  "language_info": {
   "codemirror_mode": {
    "name": "ipython",
    "version": 3
   },
   "file_extension": ".py",
   "mimetype": "text/x-python",
   "name": "python",
   "nbconvert_exporter": "python",
   "pygments_lexer": "ipython3",
   "version": "3.9.6"
  },
  "orig_nbformat": 4
 },
 "nbformat": 4,
 "nbformat_minor": 2
}
